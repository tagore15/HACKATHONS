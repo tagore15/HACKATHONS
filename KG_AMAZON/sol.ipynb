{
 "cells": [
  {
   "cell_type": "code",
   "execution_count": null,
   "metadata": {
    "_cell_guid": "cb012abe-027d-4f49-95db-1f62ed0593ea",
    "_execution_state": "idle",
    "_uuid": "62405c9a8f8145d43f569705fda3b9badba6a832",
    "collapsed": false,
    "deletable": true,
    "editable": true
   },
   "outputs": [],
   "source": [
    "import numpy as np\n",
    "import pandas as pd\n",
    "import os\n",
    "import gc\n",
    "import matplotlib.pyplot as plt\n",
    "import seaborn as sns\n",
    "%matplotlib inline"
   ]
  },
  {
   "cell_type": "code",
   "execution_count": null,
   "metadata": {
    "_cell_guid": "68622053-2598-4110-b498-cd5671bd3c09",
    "_execution_state": "idle",
    "_uuid": "b21e009dd0fc550fb6903495e4117737c37592b2",
    "collapsed": false,
    "deletable": true,
    "editable": true
   },
   "outputs": [],
   "source": [
    "df_train = pd.read_csv('INPUT/train.csv')\n",
    "df_train.head()"
   ]
  },
  {
   "cell_type": "code",
   "execution_count": null,
   "metadata": {
    "_cell_guid": "485b1acf-09f3-4273-8214-e18bb815a298",
    "_execution_state": "idle",
    "_uuid": "c573171316e14e0f292b70da7a5a104b099e2964",
    "collapsed": false,
    "deletable": true,
    "editable": true
   },
   "outputs": [],
   "source": [
    "im = plt.imread('INPUT/traind/train_1.jpg')"
   ]
  },
  {
   "cell_type": "code",
   "execution_count": null,
   "metadata": {
    "_cell_guid": "cf1f58af-11b3-4baa-a8aa-99537b5f1aaa",
    "_execution_state": "idle",
    "_uuid": "aeeb7897253b8fe48b0774190bbd81b0abe555d9",
    "collapsed": false,
    "deletable": true,
    "editable": true
   },
   "outputs": [],
   "source": [
    "plt.imshow(im)"
   ]
  },
  {
   "cell_type": "code",
   "execution_count": null,
   "metadata": {
    "_cell_guid": "3da0f80b-001c-443c-b187-4da93d9deef6",
    "_execution_state": "idle",
    "_uuid": "d84d71809b0bb5e0fa7a47fc609cc5d94ea1f635",
    "collapsed": false,
    "deletable": true,
    "editable": true
   },
   "outputs": [],
   "source": [
    "len(df_train)"
   ]
  },
  {
   "cell_type": "code",
   "execution_count": null,
   "metadata": {
    "_cell_guid": "eae3dea1-8a61-46cd-9991-49ba05d9ce60",
    "_execution_state": "idle",
    "_uuid": "e11627bce701667faaa94b5886b85d3ec3201c36",
    "collapsed": false,
    "deletable": true,
    "editable": true
   },
   "outputs": [],
   "source": [
    "labels = df_train['tags'].apply(lambda x: x.split(' '))"
   ]
  },
  {
   "cell_type": "code",
   "execution_count": null,
   "metadata": {
    "_cell_guid": "f5b0ef5c-6f7d-4027-8a00-1dd87cfa6118",
    "_execution_state": "idle",
    "_uuid": "c85bbf7b6b14e1b0747e1d13fbe47a067b2f700a",
    "collapsed": false,
    "deletable": true,
    "editable": true
   },
   "outputs": [],
   "source": [
    "len(labels)"
   ]
  },
  {
   "cell_type": "code",
   "execution_count": null,
   "metadata": {
    "_cell_guid": "52629418-dae8-4860-96c6-d5b91781585b",
    "_execution_state": "idle",
    "_uuid": "b18cb28547cf19808d665a85a8e357c98ec0b741",
    "collapsed": false,
    "deletable": true,
    "editable": true
   },
   "outputs": [],
   "source": [
    "labels[0]"
   ]
  },
  {
   "cell_type": "code",
   "execution_count": null,
   "metadata": {
    "_cell_guid": "e8a46207-93d1-4726-ae45-73758630003e",
    "_execution_state": "idle",
    "_uuid": "d3b71313ca3bdea5cd0c1edca43fc2c8d2185c0f",
    "collapsed": false,
    "deletable": true,
    "editable": true
   },
   "outputs": [],
   "source": [
    "from sklearn.preprocessing import MultiLabelBinarizer\n",
    "mlb = MultiLabelBinarizer()\n",
    "s = mlb.fit_transform(labels)"
   ]
  },
  {
   "cell_type": "code",
   "execution_count": null,
   "metadata": {
    "_cell_guid": "ad2bd11e-664b-4766-87df-e9b21b3e254f",
    "_execution_state": "idle",
    "_uuid": "8ffc2126babe79fe6b257c89bb8e3094112809fc",
    "collapsed": false,
    "deletable": true,
    "editable": true
   },
   "outputs": [],
   "source": [
    "s"
   ]
  },
  {
   "cell_type": "code",
   "execution_count": null,
   "metadata": {
    "_cell_guid": "cb6aa709-3a59-4a15-94f2-5329e2f0edb6",
    "_execution_state": "idle",
    "_uuid": "41b7e0a07d424e908de3524ec4b9a44ed34ff656",
    "collapsed": false,
    "deletable": true,
    "editable": true
   },
   "outputs": [],
   "source": [
    "s.shape"
   ]
  },
  {
   "cell_type": "code",
   "execution_count": null,
   "metadata": {
    "_cell_guid": "ab6e6128-9e7b-4b1a-b322-84ecfff1c0cb",
    "_execution_state": "idle",
    "_uuid": "2cce5c37cb938a9304f46d65981971096a6f3253",
    "collapsed": false,
    "deletable": true,
    "editable": true
   },
   "outputs": [],
   "source": [
    "from keras.models import Sequential\n",
    "from keras.layers import Lambda, Flatten, Dense\n",
    "from keras.layers.convolutional import Conv2D, Cropping2D\n",
    "from keras.layers.pooling import MaxPooling2D\n",
    "from keras.layers.core import Dropout\n",
    "from keras import backend as K\n",
    "\n",
    "from keras.wrappers.scikit_learn import KerasClassifier\n",
    "from keras.utils import np_utils"
   ]
  },
  {
   "cell_type": "code",
   "execution_count": null,
   "metadata": {
    "_cell_guid": "e5e8747b-f117-42a4-bd08-60a844d54734",
    "_execution_state": "idle",
    "_uuid": "51320e182458a7bef067591edaab7e7370659a43",
    "collapsed": false,
    "deletable": true,
    "editable": true
   },
   "outputs": [],
   "source": [
    "import cv2\n",
    "#df_train = df_train[:5000]\n",
    "#s = s[:5000]\n",
    "\n",
    "images = []\n",
    "for img in df_train['image_name']:\n",
    "    name = 'INPUT/traind/' + img +'.jpg'\n",
    "    image_arr = cv2.imread(name)\n",
    "    image_arr = cv2.resize(image_arr, (50, 50), interpolation=cv2.INTER_CUBIC)\n",
    "    images.append(image_arr)\n",
    "images = np.array(images)\n",
    "labels = np.array(s)"
   ]
  },
  {
   "cell_type": "code",
   "execution_count": null,
   "metadata": {
    "_cell_guid": "52f42870-beca-40f0-8ff3-1f99011ddd76",
    "_execution_state": "idle",
    "_uuid": "5c78ee43a03a4601105d1576e753e7a9edec4dcb",
    "collapsed": false,
    "deletable": true,
    "editable": true
   },
   "outputs": [],
   "source": [
    "def getModel():\n",
    "    model = Sequential()\n",
    "    # Preprocess incoming data, centered around zero with small standard deviation \n",
    "    model.add(Lambda(lambda x: x/127.5 - 1.,\n",
    "                    input_shape=(50, 50, 3)))\n",
    "                    #output_shape=(row, col, ch)))\n",
    "\n",
    "    model.add(Conv2D(16, (5, 5), activation='relu', padding='same'))\n",
    "    model.add(Conv2D(16, (5, 5), activation='relu', padding='same'))\n",
    "    model.add(MaxPooling2D(pool_size=(2,2)))\n",
    "    model.add(Conv2D(24, (5, 5), activation='relu', padding='same'))\n",
    "    model.add(Conv2D(24, (5, 5), activation='relu', padding='same'))\n",
    "    model.add(MaxPooling2D(pool_size=(2,2)))\n",
    "    model.add(Conv2D(32, (5, 5), activation='relu', padding='same'))\n",
    "    model.add(Conv2D(32, (5, 5), activation='relu', padding='same'))\n",
    "    model.add(MaxPooling2D(pool_size=(2,2)))\n",
    "    model.add(Conv2D(48, (3, 3), activation='relu', padding='same'))\n",
    "    model.add(Conv2D(48, (3, 3), activation='relu', padding='same'))\n",
    "    model.add(MaxPooling2D(pool_size=(2,2)))\n",
    "    model.add(Conv2D(64, (3, 3), activation='relu', padding='same'))\n",
    "    model.add(Conv2D(64, (3, 3), activation='relu', padding='same'))\n",
    "    model.add(Flatten())\n",
    "    model.add(Dropout(0.2))\n",
    "    model.add(Dense(100, activation='relu'))\n",
    "    model.add(Dropout(0.2))\n",
    "    model.add(Dense(50, activation='relu'))\n",
    "    model.add(Dropout(0.2))\n",
    "    model.add(Dense(17, activation='sigmoid'))\n",
    "    model.compile(loss='binary_crossentropy', optimizer='adam', metrics=['accuracy'])\n",
    "    return model"
   ]
  },
  {
   "cell_type": "code",
   "execution_count": null,
   "metadata": {
    "collapsed": false,
    "deletable": true,
    "editable": true
   },
   "outputs": [],
   "source": [
    "from sklearn.model_selection import train_test_split\n",
    "X_train, X_valid, y_train, y_valid= train_test_split(images, labels, test_size=0.25, random_state=42)"
   ]
  },
  {
   "cell_type": "code",
   "execution_count": null,
   "metadata": {
    "_cell_guid": "a4ef5c90-e461-47a1-a543-d2ff656d1cc6",
    "_execution_state": "busy",
    "_uuid": "f1eff74a971825740ee76b46f990d9952178c457",
    "collapsed": false,
    "deletable": true,
    "editable": true
   },
   "outputs": [],
   "source": [
    "model = getModel()\n",
    "hist = model.fit(X_train, y_train, epochs=12, verbose=2, validation_data=(X_valid, y_valid))"
   ]
  },
  {
   "cell_type": "code",
   "execution_count": null,
   "metadata": {
    "_cell_guid": "aab3a840-86eb-46e9-a0df-8107537d1b33",
    "_execution_state": "idle",
    "_uuid": "9fc0aeec38e9258012006e7dbcec44a3fb83223d",
    "collapsed": false,
    "deletable": true,
    "editable": true
   },
   "outputs": [],
   "source": [
    "df_sample = pd.read_csv(\"INPUT/sample_submission.csv\")\n",
    "df_sample.head()"
   ]
  },
  {
   "cell_type": "code",
   "execution_count": null,
   "metadata": {
    "collapsed": false,
    "deletable": true,
    "editable": true
   },
   "outputs": [],
   "source": [
    "df_sample.tail()"
   ]
  },
  {
   "cell_type": "code",
   "execution_count": null,
   "metadata": {
    "_cell_guid": "c388b9ba-ddeb-4169-b3ee-1c502fd5fcea",
    "_execution_state": "idle",
    "_uuid": "4a3ed37d4e280f826f7409c88824dfbd895dbb7c",
    "collapsed": false,
    "deletable": true,
    "editable": true
   },
   "outputs": [],
   "source": [
    "images_ = []\n",
    "for img in df_sample['image_name']:\n",
    "    #print(img)\n",
    "    name = 'INPUT/testd/' + img +'.jpg'\n",
    "    image_arr = cv2.imread(name)\n",
    "    image_arr = cv2.resize(image_arr, (50, 50), interpolation=cv2.INTER_CUBIC)\n",
    "    images_.append(image_arr)\n",
    "images_test = np.array(images_)\n",
    "#images_test = images_test[:10000]\n",
    "#labels = np.array(s)"
   ]
  },
  {
   "cell_type": "code",
   "execution_count": null,
   "metadata": {
    "_cell_guid": "3e80ffd8-02b2-4804-b361-1e33bec5bb9b",
    "_execution_state": "idle",
    "_uuid": "8afd8739fc189fe201db45180957425a4d7000d4",
    "collapsed": false,
    "deletable": true,
    "editable": true
   },
   "outputs": [],
   "source": [
    "len(images_test)"
   ]
  },
  {
   "cell_type": "code",
   "execution_count": null,
   "metadata": {
    "_cell_guid": "dedeb3f1-2b46-411b-bdf4-24e472c827cf",
    "_execution_state": "idle",
    "_uuid": "2a34516b6d34725f60b033396228f0140ee2e4a2",
    "collapsed": false,
    "deletable": true,
    "editable": true
   },
   "outputs": [],
   "source": [
    "result = model.predict(images_test)"
   ]
  },
  {
   "cell_type": "code",
   "execution_count": null,
   "metadata": {
    "_cell_guid": "83ca667f-70ca-4266-af50-b07e20314d37",
    "_execution_state": "idle",
    "_uuid": "cf2bc04e600ab1743bd346506a96d3226ffd8e87",
    "collapsed": false,
    "deletable": true,
    "editable": true
   },
   "outputs": [],
   "source": [
    "result[result>=0.3] = 1\n",
    "result[result<0.3] = 0"
   ]
  },
  {
   "cell_type": "code",
   "execution_count": null,
   "metadata": {
    "_cell_guid": "77bace9c-8cac-4d57-9e74-ace76ef406d8",
    "_execution_state": "idle",
    "_uuid": "46aaeb7b2470d9e416abaa705c562e18ea8dd87a",
    "collapsed": false,
    "deletable": true,
    "editable": true
   },
   "outputs": [],
   "source": [
    "result[0]"
   ]
  },
  {
   "cell_type": "code",
   "execution_count": null,
   "metadata": {
    "_cell_guid": "32f6b822-08b5-4ed5-975b-ad6af7f06a21",
    "_execution_state": "idle",
    "_uuid": "6eed076e722c8c31d46fc4ff9d41e6e8afc7ac39",
    "collapsed": false,
    "deletable": true,
    "editable": true
   },
   "outputs": [],
   "source": [
    "act_result = mlb.inverse_transform(result)"
   ]
  },
  {
   "cell_type": "code",
   "execution_count": null,
   "metadata": {
    "_cell_guid": "c63cbbc5-4d16-4357-95ae-b59da17eca74",
    "_execution_state": "idle",
    "_uuid": "dd02e4eb33e217ad48056a14a02c164544e954bc",
    "collapsed": false,
    "deletable": true,
    "editable": true
   },
   "outputs": [],
   "source": [
    "df_sample['tags'] = [\" \".join(lab) for lab in act_result]"
   ]
  },
  {
   "cell_type": "code",
   "execution_count": null,
   "metadata": {
    "_cell_guid": "ab77b97c-aeef-46a5-96c5-7338a526e084",
    "_execution_state": "idle",
    "_uuid": "80c38916f882411c2911ea21fbd3b62c36490d93",
    "collapsed": false,
    "deletable": true,
    "editable": true
   },
   "outputs": [],
   "source": [
    "df_sample.to_csv(\"out.csv\", index=False)"
   ]
  },
  {
   "cell_type": "code",
   "execution_count": null,
   "metadata": {
    "_cell_guid": "b1fd6308-fe13-45fb-b96d-950639e6d1ef",
    "_execution_state": "idle",
    "_uuid": "7cff3507993ddc565e58035fa4f8586796d9e000",
    "collapsed": false,
    "deletable": true,
    "editable": true
   },
   "outputs": [],
   "source": [
    "check = pd.read_csv(\"out.csv\")"
   ]
  },
  {
   "cell_type": "code",
   "execution_count": null,
   "metadata": {
    "_cell_guid": "b5ae98dc-84ac-4c72-b1d9-01d5d24de453",
    "_execution_state": "idle",
    "_uuid": "6ebaa3279d592814d4a19f06897047fddf46debc",
    "collapsed": false,
    "deletable": true,
    "editable": true
   },
   "outputs": [],
   "source": [
    "check.head()"
   ]
  },
  {
   "cell_type": "code",
   "execution_count": null,
   "metadata": {
    "_cell_guid": "7e7fdcdf-e282-439a-8efe-e36ce9183f79",
    "_execution_state": "idle",
    "_uuid": "c3ea7917b8b64e6a0c7323691da6c4b73cd9ff66",
    "collapsed": false,
    "deletable": true,
    "editable": true
   },
   "outputs": [],
   "source": [
    "check[10000:11000]"
   ]
  },
  {
   "cell_type": "markdown",
   "metadata": {
    "_cell_guid": "dac9b3e6-fc52-4272-8f10-16ea591a9545",
    "_execution_state": "idle",
    "_uuid": "93dfd65dd8d3f1f90f724e8a26424a921645a49c",
    "collapsed": false,
    "deletable": true,
    "editable": true
   },
   "source": [
    "import sklearn\n",
    "from sklearn.utils import shuffle\n",
    "\n",
    "import cv2\n",
    "def generator(samples, labels, batch_size=64):\n",
    "    num_samples = len(samples)\n",
    "    while 1:\n",
    "        #shuffle(samples)\n",
    "        for offset in range(0, num_samples, batch_size):\n",
    "            batch_samples = samples[offset:offset+batch_size]\n",
    "            label_samples = labels[offset:offset+batch_size]\n",
    "            images = []\n",
    "            labels = []\n",
    "            for (image, label) in zip(batch_samples, label_samples):\n",
    "                name = '../input/train-jpg/' + image +'.jpg'\n",
    "                #print(name)\n",
    "                image_arr = cv2.imread(name)\n",
    "                image_arr = cv2.resize(image_arr, (50, 50), interpolation=cv2.INTER_CUBIC)\n",
    "                images.append(image_arr)\n",
    "                labels.append(label)\n",
    "\n",
    "            X_train = np.array(images)\n",
    "            y_train = np.array(labels)\n",
    "            yield sklearn.utils.shuffle(X_train, y_train)\n",
    "train_generator = generator(df_train['image_name'], s, batch_size=64)\n",
    "#validation_generator = generator(validation_samples, batch_size=64)"
   ]
  }
 ],
 "metadata": {
  "kernelspec": {
   "display_name": "Python 3",
   "language": "python",
   "name": "python3"
  },
  "language_info": {
   "codemirror_mode": {
    "name": "ipython",
    "version": 3
   },
   "file_extension": ".py",
   "mimetype": "text/x-python",
   "name": "python",
   "nbconvert_exporter": "python",
   "pygments_lexer": "ipython3",
   "version": "3.5.2"
  },
  "widgets": {
   "state": {},
   "version": "1.1.2"
  }
 },
 "nbformat": 4,
 "nbformat_minor": 0
}
